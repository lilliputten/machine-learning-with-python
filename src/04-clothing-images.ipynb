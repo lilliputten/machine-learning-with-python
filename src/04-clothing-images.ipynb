{
 "cells": [
  {
   "cell_type": "markdown",
   "id": "8575eb63",
   "metadata": {},
   "source": [
    "## Creating a Neural Network\n",
    "\n",
    "Okay now you have reached the exciting part of this tutorial! No more math and complex explinations. Time to get hands on and train a very basic neural network.\n",
    "\n",
    "As stated earlier this guide is based off of the following TensorFlow tutorial. https://www.tensorflow.org/tutorials/keras/classification"
   ]
  },
  {
   "cell_type": "code",
   "execution_count": 1,
   "id": "79bed987",
   "metadata": {},
   "outputs": [],
   "source": [
    "# Step 1: Imports\n",
    "\n",
    "# TensorFlow and tf.keras\n",
    "import tensorflow as tf\n",
    "from tensorflow import keras\n",
    "\n",
    "# Helper libraries\n",
    "import numpy as np\n",
    "import matplotlib.pyplot as plt"
   ]
  },
  {
   "cell_type": "markdown",
   "id": "0c665399",
   "metadata": {},
   "source": [
    "## Dataset\n",
    "\n",
    "For this tutorial we will use the MNIST Fashion Dataset. This is a dataset that is included in keras.\n",
    "\n",
    "This dataset includes 60,000 images for training and 10,000 images for validation/testing."
   ]
  },
  {
   "cell_type": "code",
   "execution_count": 2,
   "id": "df63bfd4",
   "metadata": {},
   "outputs": [],
   "source": [
    "# Step 2: Dataset\n",
    "\n",
    "fashion_mnist = keras.datasets.fashion_mnist  # load dataset\n",
    "\n",
    "(train_images, train_labels), (test_images, test_labels) = fashion_mnist.load_data()  # split into tetsing and training"
   ]
  },
  {
   "cell_type": "markdown",
   "id": "38a5e47a",
   "metadata": {},
   "source": [
    "Let's have a look at this data to see what we are working with."
   ]
  },
  {
   "cell_type": "code",
   "execution_count": 3,
   "id": "a2384917",
   "metadata": {},
   "outputs": [
    {
     "data": {
      "text/plain": [
       "(60000, 28, 28)"
      ]
     },
     "execution_count": 3,
     "metadata": {},
     "output_type": "execute_result"
    }
   ],
   "source": [
    "train_images.shape\n",
    "# > (60000, 28, 28)"
   ]
  },
  {
   "cell_type": "markdown",
   "id": "43888523",
   "metadata": {},
   "source": [
    "So we've got 60,000 images that are made up of 28x28 pixels (784 in total)."
   ]
  },
  {
   "cell_type": "code",
   "execution_count": 4,
   "id": "a0c18e30",
   "metadata": {},
   "outputs": [
    {
     "data": {
      "text/plain": [
       "np.uint8(194)"
      ]
     },
     "execution_count": 4,
     "metadata": {},
     "output_type": "execute_result"
    }
   ],
   "source": [
    "train_images[0, 23, 23]  # let's have a look at one pixel\n",
    "# > np.uint8(194)"
   ]
  },
  {
   "cell_type": "markdown",
   "id": "870aecef",
   "metadata": {},
   "source": [
    "Our pixel values are between 0 and 255, 0 being black and 255 being white. This means we have a grayscale image as there are no color channels."
   ]
  },
  {
   "cell_type": "code",
   "execution_count": 5,
   "id": "17f0ce58",
   "metadata": {},
   "outputs": [
    {
     "data": {
      "text/plain": [
       "array([9, 0, 0, 3, 0, 2, 7, 2, 5, 5], dtype=uint8)"
      ]
     },
     "execution_count": 5,
     "metadata": {},
     "output_type": "execute_result"
    }
   ],
   "source": [
    "train_labels[:10]  # let's have a look at the first 10 training labels\n",
    "# > array([9, 0, 0, 3, 0, 2, 7, 2, 5, 5], dtype=uint8)"
   ]
  },
  {
   "cell_type": "markdown",
   "id": "e29b52a0",
   "metadata": {},
   "source": [
    "Our labels are integers ranging from 0 - 9. Each integer represents a specific article of clothing. We'll create an array of label names to indicate which is which."
   ]
  },
  {
   "cell_type": "code",
   "execution_count": 6,
   "id": "b33bd15c",
   "metadata": {},
   "outputs": [],
   "source": [
    "# Step 3: Create names for labels\n",
    "\n",
    "class_names = [\n",
    "    # Clothing class names\n",
    "    \"T-shirt/top\",\n",
    "    \"Trouser\",\n",
    "    \"Pullover\",\n",
    "    \"Dress\",\n",
    "    \"Coat\",\n",
    "    \"Sandal\",\n",
    "    \"Shirt\",\n",
    "    \"Sneaker\",\n",
    "    \"Bag\",\n",
    "    \"Ankle boot\",\n",
    "]"
   ]
  },
  {
   "cell_type": "markdown",
   "id": "d7703c65",
   "metadata": {},
   "source": [
    "Fianlly let's look at what some of these images look like!"
   ]
  },
  {
   "cell_type": "code",
   "execution_count": 8,
   "id": "575fa70b",
   "metadata": {},
   "outputs": [
    {
     "name": "stdout",
     "output_type": "stream",
     "text": [
      "Show the image #6 (class #7: Sneaker)\n"
     ]
    },
    {
     "data": {
      "image/png": "[encoded data removed]",
      "text/plain": [
       "<Figure size 640x480 with 2 Axes>"
      ]
     },
     "metadata": {},
     "output_type": "display_data"
    }
   ],
   "source": [
    "# Step 4: DEBUG: Show a train image\n",
    "\n",
    "num = 6\n",
    "image = train_images[num]\n",
    "label = train_labels[num]\n",
    "class_name = class_names[label]\n",
    "print(f\"Show the image #{num} (class #{label}: {class_name})\")\n",
    "\n",
    "plt.figure()\n",
    "plt.title(f\"Train image: {class_name}\")\n",
    "plt.xlabel(f\"Image #{num}, label #{label}\")\n",
    "plt.imshow(image)\n",
    "plt.colorbar()\n",
    "plt.grid(False)\n",
    "plt.show()"
   ]
  },
  {
   "cell_type": "markdown",
   "id": "d110cd92",
   "metadata": {},
   "source": [
    "## Data Preprocessing\n",
    "\n",
    "The last step before creating our model is to preprocess our data. This simply means applying some prior transformations to our data before feeding it the model. In this case we will simply scale all our greyscale pixel values (0-255) to be between 0 and 1. We can do this by dividing each value in the training and testing sets by 255.0. We do this because smaller values will make it easier for the model to process our values. "
   ]
  },
  {
   "cell_type": "code",
   "execution_count": 9,
   "id": "35e625ea",
   "metadata": {},
   "outputs": [],
   "source": [
    "# Step 5: Data Preprocessing\n",
    "\n",
    "train_images = train_images / 255.0\n",
    "\n",
    "test_images = test_images / 255.0"
   ]
  },
  {
   "cell_type": "markdown",
   "id": "b1f9c123",
   "metadata": {},
   "source": [
    "## Building the Model\n",
    "\n",
    "Now it's time to build the model! We are going to use a keras sequential model with three different layers. This model represents a feed-forward neural network (one that passes values from left to right). We'll break down each layer and its architecture below."
   ]
  },
  {
   "cell_type": "code",
   "execution_count": 10,
   "id": "4722f30a",
   "metadata": {},
   "outputs": [
    {
     "name": "stderr",
     "output_type": "stream",
     "text": [
      "d:\\Work\\Learn\\250701-machine-learning-with-python\\project\\.venv\\Lib\\site-packages\\keras\\src\\layers\\reshaping\\flatten.py:37: UserWarning: Do not pass an `input_shape`/`input_dim` argument to a layer. When using Sequential models, prefer using an `Input(shape)` object as the first layer in the model instead.\n",
      "  super().__init__(**kwargs)\n"
     ]
    }
   ],
   "source": [
    "# Step 6: Building the Model\n",
    "\n",
    "model = keras.Sequential(\n",
    "    [\n",
    "        keras.layers.Flatten(input_shape=(28, 28)),  # input layer (1)\n",
    "        keras.layers.Dense(128, activation=\"relu\"),  # hidden layer (2)\n",
    "        keras.layers.Dense(10, activation=\"softmax\"),  # output layer (3)\n",
    "    ]\n",
    ")"
   ]
  },
  {
   "cell_type": "markdown",
   "id": "aad50c35",
   "metadata": {},
   "source": [
    "Layer 1: This is our input layer and it will conist of 784 neurons. We use the flatten layer with an input shape of (28,28) to denote that our input should come in in that shape. The flatten means that our layer will reshape the shape (28,28) array into a vector of 784 neurons so that each pixel will be associated with one neuron.\n",
    "\n",
    "Layer 2: This is our first and only hidden layer. The dense denotes that this layer will be fully connected and each neuron from the previous layer connects to each neuron of this layer. It has 128 neurons and uses the rectify linear unit activation function.\n",
    "\n",
    "Layer 3: This is our output later and is also a dense layer. It has 10 neurons that we will look at to determine our models output. Each neuron represnts the probabillity of a given image being one of the 10 different classes. The activation function softmax is used on this layer to calculate a probabillity distribution for each class. This means the value of any neuron in this layer will be between 0 and 1, where 1 represents a high probabillity of the image being that class."
   ]
  },
  {
   "cell_type": "markdown",
   "id": "aaeb241d",
   "metadata": {},
   "source": [
    "## Compile the Model\n",
    "\n",
    "The last step in building the model is to define the loss function, optimizer and metrics we would like to track. I won't go into detail about why we chose each of these right now."
   ]
  },
  {
   "cell_type": "code",
   "execution_count": 11,
   "id": "7d536dd4",
   "metadata": {},
   "outputs": [],
   "source": [
    "# Step 7: Compile the Model\n",
    "\n",
    "model.compile(optimizer=\"adam\", loss=\"sparse_categorical_crossentropy\", metrics=[\"accuracy\"])"
   ]
  },
  {
   "cell_type": "markdown",
   "id": "fac6c693",
   "metadata": {},
   "source": [
    "## Training the Model\n",
    "\n",
    "Now it's finally time to train the model. Since we've already done all the work on our data this step is as easy as calling a single method."
   ]
  },
  {
   "cell_type": "code",
   "execution_count": null,
   "id": "b06eab93",
   "metadata": {},
   "outputs": [
    {
     "name": "stdout",
     "output_type": "stream",
     "text": [
      "Epoch 1/2\n",
      "\u001b[1m1875/1875\u001b[0m \u001b[32m━━━━━━━━━━━━━━━━━━━━\u001b[0m\u001b[37m\u001b[0m \u001b[1m5s\u001b[0m 2ms/step - accuracy: 0.7777 - loss: 0.6380\n",
      "Epoch 2/2\n",
      "\u001b[1m1875/1875\u001b[0m \u001b[32m━━━━━━━━━━━━━━━━━━━━\u001b[0m\u001b[37m\u001b[0m \u001b[1m4s\u001b[0m 2ms/step - accuracy: 0.8619 - loss: 0.3887\n"
     ]
    },
    {
     "data": {
      "text/plain": [
       "<keras.src.callbacks.history.History at 0x21e45734bd0>"
      ]
     },
     "execution_count": 12,
     "metadata": {},
     "output_type": "execute_result"
    }
   ],
   "source": [
    "# Step 8: Training the Model\n",
    "\n",
    "do_epochs = 10\n",
    "model.fit(train_images, train_labels, epochs=do_epochs)  # We pass the data, labels and epochs and watch the magic!"
   ]
  },
  {
   "cell_type": "markdown",
   "id": "0302d0ee",
   "metadata": {},
   "source": [
    "## Evaluating the Model\n",
    "\n",
    "Now it's time to test/evaluate the model. We can do this quite easily using another builtin method from keras.\n",
    "\n",
    "The verbose argument is defined from the keras documentation as: \"verbose: 0 or 1. Verbosity mode. 0 = silent, 1 = progress bar.\" (https://keras.io/models/sequential/)"
   ]
  },
  {
   "cell_type": "code",
   "execution_count": 14,
   "id": "e6a1e950",
   "metadata": {},
   "outputs": [
    {
     "name": "stdout",
     "output_type": "stream",
     "text": [
      "\u001b[1m313/313\u001b[0m \u001b[32m━━━━━━━━━━━━━━━━━━━━\u001b[0m\u001b[37m\u001b[0m \u001b[1m1s\u001b[0m 2ms/step - accuracy: 0.8392 - loss: 0.4216\n",
      "Test loss: 0.42236772179603577\n",
      "Test accuracy: 0.8398000001907349\n"
     ]
    }
   ],
   "source": [
    "# Step 8: Evaluating the Model\n",
    "\n",
    "test_loss, test_acc = model.evaluate(test_images, test_labels, verbose=1)\n",
    "\n",
    "print(\"Test loss:\", test_loss)\n",
    "print(\"Test accuracy:\", test_acc)"
   ]
  },
  {
   "cell_type": "markdown",
   "id": "49127d25",
   "metadata": {},
   "source": [
    "You'll likely notice that the accuracy here is lower than when training the model. This difference is reffered to as overfitting.\n",
    "\n",
    "And now we have a trained model that's ready to use to predict some values!"
   ]
  },
  {
   "cell_type": "markdown",
   "id": "90df220a",
   "metadata": {},
   "source": [
    "## Making Predictions\n",
    "\n",
    "To make predictions we simply need to pass an array of data in the form we've specified in the input layer to .predict() method."
   ]
  },
  {
   "cell_type": "code",
   "execution_count": 15,
   "id": "41d4bc93",
   "metadata": {},
   "outputs": [
    {
     "name": "stdout",
     "output_type": "stream",
     "text": [
      "\u001b[1m313/313\u001b[0m \u001b[32m━━━━━━━━━━━━━━━━━━━━\u001b[0m\u001b[37m\u001b[0m \u001b[1m0s\u001b[0m 959us/step\n"
     ]
    }
   ],
   "source": [
    "# Step 9: Making Predictions\n",
    "\n",
    "predictions = model.predict(test_images)\n",
    "\n",
    "# 313/313 ━━━━━━━━━━━━━━━━━━━━ 1s 2ms/step"
   ]
  },
  {
   "cell_type": "markdown",
   "id": "3072fa83",
   "metadata": {},
   "source": [
    "This method returns to us an array of predictions for each image we passed it. Let's have a look at the predictions for image 1."
   ]
  },
  {
   "cell_type": "code",
   "execution_count": 16,
   "id": "43ebea1e",
   "metadata": {},
   "outputs": [
    {
     "data": {
      "text/plain": [
       "array([8.64807807e-05, 7.25706855e-08, 4.69502083e-06, 1.32764239e-06,\n",
       "       3.01844989e-06, 5.10065667e-02, 1.52582015e-05, 3.87127459e-01,\n",
       "       2.25246046e-03, 5.59502661e-01], dtype=float32)"
      ]
     },
     "execution_count": 16,
     "metadata": {},
     "output_type": "execute_result"
    }
   ],
   "source": [
    "predictions[0]\n",
    "\n",
    "# array([4.3684032e-11, 4.7063287e-11, 1.1327360e-14, 7.2166453e-12,\n",
    "#        4.0533611e-13, 7.0521501e-06, 1.2342988e-10, 1.2951012e-03,\n",
    "#        3.7609055e-10, 9.9869788e-01], dtype=float32)"
   ]
  },
  {
   "cell_type": "markdown",
   "id": "a220dd70",
   "metadata": {},
   "source": [
    "If we wan't to get the value with the highest score we can use a useful function from numpy called argmax(). This simply returns the index of the maximium value from a numpy array. "
   ]
  },
  {
   "cell_type": "code",
   "execution_count": 18,
   "id": "65a3b59d",
   "metadata": {},
   "outputs": [
    {
     "data": {
      "text/plain": [
       "np.int64(9)"
      ]
     },
     "execution_count": 18,
     "metadata": {},
     "output_type": "execute_result"
    }
   ],
   "source": [
    "np.argmax(predictions[0])\n",
    "\n",
    "# np.int64(9)"
   ]
  },
  {
   "cell_type": "markdown",
   "id": "c2ad23e4",
   "metadata": {},
   "source": [
    "And we can check if this is correct by looking at the value of the cooresponding test label."
   ]
  },
  {
   "cell_type": "code",
   "execution_count": 17,
   "id": "9769aaf0",
   "metadata": {},
   "outputs": [
    {
     "data": {
      "text/plain": [
       "np.uint8(9)"
      ]
     },
     "execution_count": 17,
     "metadata": {},
     "output_type": "execute_result"
    }
   ],
   "source": [
    "test_labels[0]\n",
    "\n",
    "# np.uint8(9)"
   ]
  },
  {
   "cell_type": "markdown",
   "id": "d125bf42",
   "metadata": {},
   "source": [
    "## Verifying Predictions\n",
    "\n",
    "I've written a small function here to help us verify predictions with some simple visuals."
   ]
  },
  {
   "cell_type": "code",
   "execution_count": null,
   "id": "b3cdda02",
   "metadata": {},
   "outputs": [
    {
     "ename": "",
     "evalue": "",
     "output_type": "error",
     "traceback": [
      "\u001b[1;31mThe Kernel crashed while executing code in the current cell or a previous cell. \n",
      "\u001b[1;31mPlease review the code in the cell(s) to identify a possible cause of the failure. \n",
      "\u001b[1;31mClick <a href='https://aka.ms/vscodeJupyterKernelCrash'>here</a> for more info. \n",
      "\u001b[1;31mView Jupyter <a href='command:jupyter.viewOutput'>log</a> for further details."
     ]
    }
   ],
   "source": [
    "# Step 10: Verifying Predictions\n",
    "\n",
    "\n",
    "def get_number():\n",
    "    while True:\n",
    "        num = input(\"Pick a test image number (0-9999): \")\n",
    "        if num.isdigit():\n",
    "            num = int(num)\n",
    "            if 0 <= num < 10000:\n",
    "                return int(num)\n",
    "        else:\n",
    "            print(\"Try again...\")\n",
    "\n",
    "\n",
    "def show_image(image, real_class, predicted_class):\n",
    "    plt.figure()\n",
    "    plt.title(f\"Predicted: {predicted_class}\")\n",
    "    plt.xlabel(f\"Real: {real_class}\")\n",
    "    plt.imshow(image)\n",
    "    plt.colorbar()\n",
    "    plt.grid(False)\n",
    "    plt.show()\n",
    "\n",
    "\n",
    "def predict(model, image, real_label):\n",
    "    image_array = np.array([image])\n",
    "\n",
    "    # Get prediction indices list for an image\n",
    "    prediction = model.predict(image_array)\n",
    "\n",
    "    real_class = class_names[real_label]\n",
    "\n",
    "    predicted_label = np.argmax(prediction)\n",
    "    predicted_class = class_names[predicted_label]\n",
    "\n",
    "    print(\"real_label:\", real_label)\n",
    "    print(\"prediction:\", prediction)\n",
    "    print(\"predicted_label:\", predicted_label)\n",
    "    print(\"predicted_class:\", predicted_class)\n",
    "    print(\"real_class:\", real_class)\n",
    "\n",
    "    print(\"Show the predicted image\")\n",
    "    show_image(image, real_class, predicted_class)\n",
    "\n",
    "\n",
    "# Try to predict a test image class\n",
    "num = 5  # get_number()  # Get the number interactively\n",
    "print(\"Using test image:\", num)\n",
    "image = test_images[num]\n",
    "real_label = test_labels[num]\n",
    "\n",
    "predict(model, image, real_label)\n",
    "\n",
    "print(\"Done\")"
   ]
  },
  {
   "cell_type": "markdown",
   "id": "f9114338",
   "metadata": {},
   "source": [
    "And that's pretty much it for an introduction to neural networks!"
   ]
  }
 ],
 "metadata": {
  "kernelspec": {
   "display_name": ".venv",
   "language": "python",
   "name": "python3"
  },
  "language_info": {
   "codemirror_mode": {
    "name": "ipython",
    "version": 3
   },
   "file_extension": ".py",
   "mimetype": "text/x-python",
   "name": "python",
   "nbconvert_exporter": "python",
   "pygments_lexer": "ipython3",
   "version": "3.11.0"
  }
 },
 "nbformat": 4,
 "nbformat_minor": 5
}
